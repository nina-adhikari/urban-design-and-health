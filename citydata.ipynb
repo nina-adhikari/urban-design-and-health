{
  "nbformat": 4,
  "nbformat_minor": 0,
  "metadata": {
    "colab": {
      "provenance": []
    },
    "kernelspec": {
      "name": "python3",
      "display_name": "Python 3"
    },
    "language_info": {
      "name": "python"
    }
  },
  "cells": [
    {
      "cell_type": "markdown",
      "source": [
        "Here we import data from a few spreadsheets, strip it and combine it. The code here is written to run in Google Colab (with files stored in Drive) but it can be modified to run locally."
      ],
      "metadata": {
        "id": "8OpdJm1_ThTy"
      }
    },
    {
      "cell_type": "code",
      "execution_count": null,
      "metadata": {
        "id": "hQqM6vznz5OI"
      },
      "outputs": [],
      "source": [
        "#hello\n",
        "import geopandas as gpd\n",
        "import pandas as pd\n",
        "!pip install mapclassify"
      ]
    },
    {
      "cell_type": "code",
      "source": [
        "from google.colab import drive\n",
        "drive.mount('/content/drive')"
      ],
      "metadata": {
        "id": "P85ZEH54_LI4"
      },
      "execution_count": null,
      "outputs": []
    },
    {
      "cell_type": "code",
      "source": [
        "health = 'drive/MyDrive/walkability/health.csv'      # https://data.cdc.gov/500-Cities-Places/500-Cities-Local-Data-for-Better-Health-2019-relea/6vp6-wxuq/about_data\n",
        "epacsv = 'drive/MyDrive/walkability/epdownload.csv'  # https://edg.epa.gov/EPADataCommons/public/OA/EPA_SmartLocationDatabase_V3_Jan_2021_Final.csv\n",
        "incomesource = 'drive/MyDrive/walkability/ACSDT5Y2017.B19013-2024-03-26T221220.csv'      # https://data.census.gov/table/ACSDT5Y2017.B19013?q=b19013&g=040XX00US11$1400000&moe=false&tp=true\n",
        "income = 'drive/MyDrive/walkability/income.csv'      # we will store the modified csv here"
      ],
      "metadata": {
        "id": "QT-iaHyjQzAd"
      },
      "execution_count": 110,
      "outputs": []
    },
    {
      "cell_type": "code",
      "source": [
        "with open(incomesource, 'r') as incomefile:\n",
        "  incomestr = incomefile.read().replace(\n",
        "      ', District of Columbia, District of Columbia\",\"\"\\n\"    Estimate', '').replace(\n",
        "          'Median household income in the past 12 months (in 2017 inflation-adjusted dollars)', 'Income').replace(\n",
        "              '\\ufeff\"Label (Grouping)\"', 'Tract').replace(\n",
        "                  'Census Tract ', '')\n",
        "with open(income, 'w') as incomefile:\n",
        "  incomefile.write(incomestr)\n",
        "\n",
        "inc = gpd.read_file(income).drop('geometry', axis=1)\n",
        "inc['Income'] = inc['Income'].str.replace(',','')\n",
        "inc.apply(pd.to_numeric, errors='coerce')\n",
        "inc['Tract'] = round(inc['Tract'].astype(float)*100).astype(int)\n",
        "inc.set_index('Tract', inplace=True)\n",
        "inc"
      ],
      "metadata": {
        "id": "A88uaKFW4jJy"
      },
      "execution_count": null,
      "outputs": []
    },
    {
      "cell_type": "code",
      "source": [
        "columns_to_drop = ['D1A', 'D1B', 'D1C', 'D1C5_RET', 'D1C5_OFF', 'D1C5_IND', 'D1C5_SVC',\n",
        "                   'D1C5_ENT', 'D1C8_RET', 'D1C8_OFF', 'D1C8_IND', 'D1C8_SVC', 'D1C8_ENT',\n",
        "                   'D1C8_ED', 'D1C8_HLTH', 'D1C8_PUB', 'D1D', 'D1_FLAG', 'D2A_JPHH',\n",
        "                   'D2B_E5MIX', 'D2B_E5MIXA', 'D2B_E8MIX', 'D2B_E8MIXA', 'D2A_EPHHM',\n",
        "                   'D2C_TRPMX1', 'D2C_TRPMX2', 'D2C_TRIPEQ', 'D2R_JOBPOP', 'D2R_WRKEMP',\n",
        "                   'D2A_WRKEMP', 'D2C_WREMLX', 'D4D', 'D4E', 'D5CR', 'D5CRI', 'D5CE',\n",
        "                   'D5CEI', 'D5DR', 'D5DRI', 'D5DE', 'D5DEI',\n",
        "                   'D2A_Ranked', 'D2B_Ranked', 'D3B_Ranked', 'D4A_Ranked'\n",
        "                   ]\n",
        "epa = gpd.read_file(epacsv, where=\"STATEFP='11'\").drop(columns=columns_to_drop)   # only interested in DC\n",
        "epa['TRACTCE'] = epa['TRACTCE'].astype(int)\n",
        "epa.set_index('OBJECTID', inplace=True)\n",
        "epa"
      ],
      "metadata": {
        "id": "j47ELvG8PoyP"
      },
      "execution_count": null,
      "outputs": []
    },
    {
      "cell_type": "code",
      "source": [
        "#gdb = 'drive/MyDrive/smartlocation/smartlocdb/SmartLocationDatabase.gdb'\n",
        "#fc = gpd.read_file(gdb, where=\"STATEFP='11'\")"
      ],
      "metadata": {
        "id": "i4DogQtrZEC7"
      },
      "execution_count": null,
      "outputs": []
    },
    {
      "cell_type": "code",
      "source": [
        "hl = gpd.read_file(health, where=\"StateAbbr='DC' AND GeographicLevel='Census Tract'\", include_fields=['StateAbbr', 'GeographicLevel', 'UniqueID', 'MeasureId', 'CityFIPS', 'TractFIPS', 'Data_Value'])\n",
        "hl['TractCE'] = hl['TractFIPS'].str.removeprefix('110010').astype(int)\n",
        "hlp = hl.pivot(index='TractCE', columns='MeasureId', values='Data_Value')\n",
        "hlp"
      ],
      "metadata": {
        "id": "7p9s66awJcGP"
      },
      "execution_count": null,
      "outputs": []
    },
    {
      "cell_type": "code",
      "source": [
        "firstjoin = epa.join(other=hlp, on='TRACTCE', how='left', validate='m:1')           # merge EPA and CDC\n",
        "secondjoin = firstjoin.join(other=inc, on='TRACTCE', how='left', validate='m:1')    # merge above with census income data\n",
        "secondjoin"
      ],
      "metadata": {
        "id": "mG7_vZZFeZuT"
      },
      "execution_count": null,
      "outputs": []
    }
  ]
}