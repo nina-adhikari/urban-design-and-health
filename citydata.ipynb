{
  "nbformat": 4,
  "nbformat_minor": 0,
  "metadata": {
    "colab": {
      "provenance": [],
      "include_colab_link": true
    },
    "kernelspec": {
      "name": "python3",
      "display_name": "Python 3"
    },
    "language_info": {
      "name": "python"
    }
  },
  "cells": [
    {
      "cell_type": "markdown",
      "metadata": {
        "id": "view-in-github",
        "colab_type": "text"
      },
      "source": [
        "<a href=\"https://colab.research.google.com/github/nina-adhikari/enjoyment-maximizing-maps/blob/main/citydata.ipynb\" target=\"_parent\"><img src=\"https://colab.research.google.com/assets/colab-badge.svg\" alt=\"Open In Colab\"/></a>"
      ]
    },
    {
      "cell_type": "markdown",
      "source": [
        "# **Data cleaning + preprocessing**\n",
        "In this notebook, we import data from a few spreadsheets, strip it and combine it. The code here is written to run in Google Colab (files must be stored in the Google Drive folder drive/MyDrive/walkability) but it can be modified to run locally.\n",
        "\n",
        "The datasets are:\n",
        "\n",
        "*   **500 Cities: Local Data for Better Health**: This dataset contains estimates for 27 measures of chronic disease related to unhealthy behaviors (5), health outcomes (13), and use of preventive services (9). It includes estimates for the 500 largest US cities and approximately 28,000 census tracts within these cities.  Data sources used to generate these measures include Behavioral Risk Factor Surveillance System (BRFSS) data (2017, 2016), Census Bureau 2010 census population data, and American Community Survey (ACS) 2013-2017, 2012-2016 estimates. More information about the methodology can be found at www.cdc.gov/500cities. Link to dataset: https://data.cdc.gov/500-Cities-Places/500-Cities-Local-Data-for-Better-Health-2019-relea/6vp6-wxuq/about_data\n",
        "*   **Smart Location Database (SLD)**: summarizes more than 90 different indicators associated with the built environment and location efficiency. Indicators include density of development, diversity of land use, street network design, and accessibility to destinations as well as various demographic and employment statistics. Most attributes are available for all U.S. block groups. Link to direct download of dataset: https://edg.epa.gov/EPADataCommons/public/OA/EPA_SmartLocationDatabase_V3_Jan_2021_Final.csv\n",
        "*   **Median household income** Median household income in the past 12 months (in 2022 inflation-adjusted dollars), for the District of Columbia only, year 2017. Link to dataset:https://data.census.gov/table/ACSDT5Y2017.B19013?q=b19013&g=040XX00US11$1400000&moe=false&tp=true\n",
        "\n",
        "We focus our analysis in the **District of Columbia only**. To do so, it is neccesary to filter out other cities. We also filter out factors that we do not wish to include in the analysis.\n",
        "\n"
      ],
      "metadata": {
        "id": "NCJ_HohZ5BHP"
      }
    },
    {
      "cell_type": "code",
      "execution_count": null,
      "metadata": {
        "id": "hQqM6vznz5OI"
      },
      "outputs": [],
      "source": [
        "#import packages to handle data\n",
        "import geopandas as gpd #extends the datatypes used by pandas to allow spatial operations on geometric types\n",
        "import pandas as pd\n",
        "!pip install mapclassify #Choropleth map classification"
      ]
    },
    {
      "cell_type": "code",
      "source": [
        "#allow colab to access your Google Drive, an authentication window will pop-up\n",
        "from google.colab import drive\n",
        "drive.mount('/content/drive', force_remount=True)"
      ],
      "metadata": {
        "id": "P85ZEH54_LI4",
        "colab": {
          "base_uri": "https://localhost:8080/"
        },
        "outputId": "0134ee6e-12ca-4c82-c8be-813539785e48"
      },
      "execution_count": 5,
      "outputs": [
        {
          "output_type": "stream",
          "name": "stdout",
          "text": [
            "Mounted at /content/drive\n"
          ]
        }
      ]
    },
    {
      "cell_type": "code",
      "source": [
        "#import datasets stored in drive/MyDrive/walkability/\n",
        "health = 'drive/MyDrive/walkability/health.csv'      # 500 Cities: Local Data for Better Health https://data.cdc.gov/500-Cities-Places/500-Cities-Local-Data-for-Better-Health-2019-relea/6vp6-wxuq/about_data\n",
        "epacsv = 'drive/MyDrive/walkability/epdownload.csv'  # Smart Location Database https://edg.epa.gov/EPADataCommons/public/OA/EPA_SmartLocationDatabase_V3_Jan_2021_Final.csv\n",
        "incomesource = 'drive/MyDrive/walkability/ACSDT5Y2017.B19013-2024-03-26T221220.csv'      # Median household income https://data.census.gov/table/ACSDT5Y2017.B19013?q=b19013&g=040XX00US11$1400000&moe=false&tp=true\n",
        "income = 'drive/MyDrive/walkability/income.csv'      # we will store the modified csv here"
      ],
      "metadata": {
        "id": "QT-iaHyjQzAd"
      },
      "execution_count": 7,
      "outputs": []
    },
    {
      "cell_type": "markdown",
      "source": [
        "Clean up income dataset. Important: the ID of each row, for all files, is to be the census tract ID."
      ],
      "metadata": {
        "id": "_ROrQopFXbZQ"
      }
    },
    {
      "cell_type": "code",
      "source": [
        "#reformat the income file to have two columns: tract and income\n",
        "with open(incomesource, 'r') as incomefile:\n",
        "  #remove all unnecessary wording and spaces\n",
        "  incomestr = incomefile.read().replace(\n",
        "      ', District of Columbia, District of Columbia\",\"\"\\n\"    Estimate', '').replace(\n",
        "          'Median household income in the past 12 months (in 2017 inflation-adjusted dollars)', 'Income').replace(\n",
        "              '\\ufeff\"Label (Grouping)\"', 'Tract').replace(\n",
        "                  'Census Tract ', '')\n",
        "\n",
        "#write reformatted data into new file\n",
        "with open(income, 'w') as incomefile:\n",
        "  incomefile.write(incomestr)\n",
        "\n",
        "inc = gpd.read_file(income).drop('geometry', axis=1) #converts GeoDataFrame to a normal DataFrame by dropping the geometry column?\n",
        "inc['Income'] = inc['Income'].str.replace(',','') #replace comma format for numbers\n",
        "inc.apply(pd.to_numeric, errors='coerce') #convert to numeric, coerce makes invalid parsing be set as NaN\n",
        "inc['Tract'] = round(inc['Tract'].astype(float)*100).astype(int) #format census tract id as integer\n",
        "inc.set_index('Tract', inplace=True) #tract id is the index of this dataframe\n",
        "inc #sanity check"
      ],
      "metadata": {
        "id": "A88uaKFW4jJy"
      },
      "execution_count": null,
      "outputs": []
    },
    {
      "cell_type": "markdown",
      "source": [
        "Clean up the SLD dataset. We are keeping only the rows corresponding to the District of Columbia (state FIPS code 11), and the columns that are not derived from other variables in the dataset (see Documentation: https://www.epa.gov/system/files/documents/2023-10/epa_sld_3.0_technicaldocumentationuserguide_may2021_0.pdf)"
      ],
      "metadata": {
        "id": "I16KXgzxXnXL"
      }
    },
    {
      "cell_type": "code",
      "source": [
        "columns_to_drop = ['D1A', 'D1B', 'D1C', 'D1C5_RET', 'D1C5_OFF', 'D1C5_IND', 'D1C5_SVC',\n",
        "                   'D1C5_ENT', 'D1C8_RET', 'D1C8_OFF', 'D1C8_IND', 'D1C8_SVC', 'D1C8_ENT',\n",
        "                   'D1C8_ED', 'D1C8_HLTH', 'D1C8_PUB', 'D1D', 'D1_FLAG', 'D2A_JPHH',\n",
        "                   'D2B_E5MIX', 'D2B_E5MIXA', 'D2B_E8MIX', 'D2B_E8MIXA', 'D2A_EPHHM',\n",
        "                   'D2C_TRPMX1', 'D2C_TRPMX2', 'D2C_TRIPEQ', 'D2R_JOBPOP', 'D2R_WRKEMP',\n",
        "                   'D2A_WRKEMP', 'D2C_WREMLX', 'D4D', 'D4E', 'D5CR', 'D5CRI', 'D5CE',\n",
        "                   'D5CEI', 'D5DR', 'D5DRI', 'D5DE', 'D5DEI',\n",
        "                   'D2A_Ranked', 'D2B_Ranked', 'D3B_Ranked', 'D4A_Ranked'\n",
        "                   ]\n",
        "epa = gpd.read_file(epacsv, where=\"STATEFP='11'\").drop(columns=columns_to_drop)   # only interested in DC\n",
        "epa['TRACTCE'] = epa['TRACTCE'].astype(int) #this will be the index, format as integer\n",
        "epa.set_index('OBJECTID', inplace=True)\n",
        "epa"
      ],
      "metadata": {
        "id": "j47ELvG8PoyP"
      },
      "execution_count": null,
      "outputs": []
    },
    {
      "cell_type": "code",
      "source": [
        "#gdb = 'drive/MyDrive/smartlocation/smartlocdb/SmartLocationDatabase.gdb'\n",
        "#fc = gpd.read_file(gdb, where=\"STATEFP='11'\")"
      ],
      "metadata": {
        "id": "i4DogQtrZEC7"
      },
      "execution_count": null,
      "outputs": []
    },
    {
      "cell_type": "markdown",
      "source": [
        "Finally, clean up the Local Data for Better Health dataset. Keep also only DC."
      ],
      "metadata": {
        "id": "o-Xe3rsQZLnP"
      }
    },
    {
      "cell_type": "code",
      "source": [
        "hl = gpd.read_file(health, where=\"StateAbbr='DC' AND GeographicLevel='Census Tract'\", include_fields=['StateAbbr', 'GeographicLevel', 'UniqueID', 'MeasureId', 'CityFIPS', 'TractFIPS', 'Data_Value'])\n",
        "hl['TractCE'] = hl['TractFIPS'].str.removeprefix('110010').astype(int) #format index column\n",
        "hlp = hl.pivot(index='TractCE', columns='MeasureId', values='Data_Value') #pivot table to have the columns be the MeasureId\n",
        "hlp"
      ],
      "metadata": {
        "id": "7p9s66awJcGP"
      },
      "execution_count": null,
      "outputs": []
    },
    {
      "cell_type": "markdown",
      "source": [
        "Finally, merge the datasets on the Census tract FIPS code."
      ],
      "metadata": {
        "id": "0kf2vCT4ddJs"
      }
    },
    {
      "cell_type": "code",
      "source": [
        "firstjoin = epa.join(other=hlp, on='TRACTCE', how='left', validate='m:1')           # merge EPA and CDC\n",
        "secondjoin = firstjoin.join(other=inc, on='TRACTCE', how='left', validate='m:1')    # merge above with census income data # m:1 checks if join keys are unique in right dataset\n",
        "secondjoin"
      ],
      "metadata": {
        "id": "mG7_vZZFeZuT"
      },
      "execution_count": null,
      "outputs": []
    },
    {
      "cell_type": "markdown",
      "source": [
        "Print resulting columns, and create a dictionary for the columns."
      ],
      "metadata": {
        "id": "eb2l-wZJeGGP"
      }
    },
    {
      "cell_type": "code",
      "source": [
        "print('there are',len(secondjoin.columns.to_list()),'columns')\n",
        "print(secondjoin.columns.to_list())"
      ],
      "metadata": {
        "colab": {
          "base_uri": "https://localhost:8080/"
        },
        "id": "j2s-ddKUeIeZ",
        "outputId": "afa6d8a5-634d-4936-e5d4-bb19d56f3d09"
      },
      "execution_count": 12,
      "outputs": [
        {
          "output_type": "stream",
          "name": "stdout",
          "text": [
            "there are 101 columns\n",
            "['GEOID10', 'GEOID20', 'STATEFP', 'COUNTYFP', 'TRACTCE', 'BLKGRPCE', 'CSA', 'CSA_Name', 'CBSA', 'CBSA_Name', 'CBSA_POP', 'CBSA_EMP', 'CBSA_WRK', 'Ac_Total', 'Ac_Water', 'Ac_Land', 'Ac_Unpr', 'TotPop', 'CountHU', 'HH', 'P_WrkAge', 'AutoOwn0', 'Pct_AO0', 'AutoOwn1', 'Pct_AO1', 'AutoOwn2p', 'Pct_AO2p', 'Workers', 'R_LowWageWk', 'R_MedWageWk', 'R_HiWageWk', 'R_PCTLOWWAGE', 'TotEmp', 'E5_Ret', 'E5_Off', 'E5_Ind', 'E5_Svc', 'E5_Ent', 'E8_Ret', 'E8_off', 'E8_Ind', 'E8_Svc', 'E8_Ent', 'E8_Ed', 'E8_Hlth', 'E8_Pub', 'E_LowWageWk', 'E_MedWageWk', 'E_HiWageWk', 'E_PctLowWage', 'D3A', 'D3AAO', 'D3AMM', 'D3APO', 'D3B', 'D3BAO', 'D3BMM3', 'D3BMM4', 'D3BPO3', 'D3BPO4', 'D4A', 'D4B025', 'D4B050', 'D4C', 'D5AR', 'D5AE', 'D5BR', 'D5BE', 'NatWalkInd', 'Shape_Length', 'Shape_Area', 'geometry', 'ACCESS2', 'ARTHRITIS', 'BINGE', 'BPHIGH', 'BPMED', 'CANCER', 'CASTHMA', 'CHD', 'CHECKUP', 'CHOLSCREEN', 'COLON_SCREEN', 'COPD', 'COREM', 'COREW', 'CSMOKING', 'DENTAL', 'DIABETES', 'HIGHCHOL', 'KIDNEY', 'LPA', 'MAMMOUSE', 'MHLTH', 'OBESITY', 'PAPTEST', 'PHLTH', 'SLEEP', 'STROKE', 'TEETHLOST', 'Income']\n"
          ]
        }
      ]
    },
    {
      "cell_type": "code",
      "source": [
        "#create dictionary of columns\n",
        "cols_dict_data = 'drive/MyDrive/walkability/column-dictionary.csv'\n",
        "\n",
        "# import csv\n",
        "import csv\n",
        "\n",
        "#create dictionary with the meaning of the cols names\n",
        "with open(cols_dict_data, mode='r') as infile:\n",
        "    reader = csv.reader(infile)\n",
        "    cols_dict = {rows[0]:rows[1] for rows in reader}\n",
        "\n",
        "cols_dict"
      ],
      "metadata": {
        "id": "aHT6CfBzjzW3"
      },
      "execution_count": null,
      "outputs": []
    }
  ]
}